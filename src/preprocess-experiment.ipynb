{
 "metadata": {
  "language_info": {
   "codemirror_mode": {
    "name": "ipython",
    "version": 3
   },
   "file_extension": ".py",
   "mimetype": "text/x-python",
   "name": "python",
   "nbconvert_exporter": "python",
   "pygments_lexer": "ipython3",
   "version": "3.6.10-final"
  },
  "orig_nbformat": 2,
  "kernelspec": {
   "name": "python_defaultSpec_1597376989004",
   "display_name": "Python 3.6.10 64-bit ('igcmf': conda)"
  }
 },
 "nbformat": 4,
 "nbformat_minor": 2,
 "cells": [
  {
   "cell_type": "code",
   "execution_count": 1,
   "metadata": {},
   "outputs": [],
   "source": [
    "import os\n",
    "import copy\n",
    "import glob\n",
    "import shutil\n",
    "import pandas as pd\n",
    "import numpy as np\n",
    "from scipy.io import savemat\n",
    "\n",
    "import torch\n",
    "from torch_geometric.utils import one_hot\n",
    "from torch_scatter import scatter_add\n",
    "from torch_geometric.data import InMemoryDataset, Data, download_url, extract_zip"
   ]
  },
  {
   "cell_type": "code",
   "execution_count": 2,
   "metadata": {},
   "outputs": [
    {
     "output_type": "execute_result",
     "data": {
      "text/plain": "   user_id  item_id  relation\n0        1        1         5\n1        1        2         3\n2        1        3         4\n3        1        4         3\n4        1        5         3",
      "text/html": "<div>\n<style scoped>\n    .dataframe tbody tr th:only-of-type {\n        vertical-align: middle;\n    }\n\n    .dataframe tbody tr th {\n        vertical-align: top;\n    }\n\n    .dataframe thead th {\n        text-align: right;\n    }\n</style>\n<table border=\"1\" class=\"dataframe\">\n  <thead>\n    <tr style=\"text-align: right;\">\n      <th></th>\n      <th>user_id</th>\n      <th>item_id</th>\n      <th>relation</th>\n    </tr>\n  </thead>\n  <tbody>\n    <tr>\n      <th>0</th>\n      <td>1</td>\n      <td>1</td>\n      <td>5</td>\n    </tr>\n    <tr>\n      <th>1</th>\n      <td>1</td>\n      <td>2</td>\n      <td>3</td>\n    </tr>\n    <tr>\n      <th>2</th>\n      <td>1</td>\n      <td>3</td>\n      <td>4</td>\n    </tr>\n    <tr>\n      <th>3</th>\n      <td>1</td>\n      <td>4</td>\n      <td>3</td>\n    </tr>\n    <tr>\n      <th>4</th>\n      <td>1</td>\n      <td>5</td>\n      <td>3</td>\n    </tr>\n  </tbody>\n</table>\n</div>"
     },
     "metadata": {},
     "execution_count": 2
    }
   ],
   "source": [
    "def create_df(csv_path):\n",
    "        col_names = ['user_id', 'item_id', 'relation', 'ts']\n",
    "        df = pd.read_csv(csv_path, sep='\\t', names=col_names)\n",
    "        df = df.drop('ts', axis=1)\n",
    "        df_copy = df.copy()\n",
    "        df['user_id'] = df['user_id'] - 1\n",
    "        df['item_id'] = df['item_id'] - 1\n",
    "        df['relation'] = df['relation'] - 1\n",
    "\n",
    "        nums = {'user': df.max()['user_id'] + 1,\n",
    "                'item': df.max()['item_id'] + 1,\n",
    "                'node': df.max()['user_id'] + df.max()['item_id'] + 2,\n",
    "                'edge': len(df)}\n",
    "        return df_copy, nums\n",
    "\n",
    "csv_path = \"data\\\\ml-100k\\\\raw\\\\u1.base\" # TODO: attach it somewhere \n",
    "user_item_df, nums = create_df(csv_path)\n",
    "user_item_df.head()"
   ]
  },
  {
   "cell_type": "code",
   "execution_count": 13,
   "metadata": {
    "tags": []
   },
   "outputs": [
    {
     "output_type": "stream",
     "name": "stdout",
     "text": "training percentage:  0.7000005867270604\n"
    },
    {
     "output_type": "execute_result",
     "data": {
      "text/plain": "array([[0, 0, 0, ..., 0, 0, 0],\n       [0, 1, 1, ..., 1, 0, 0],\n       [0, 0, 0, ..., 1, 0, 0],\n       ...,\n       [0, 1, 0, ..., 0, 0, 1],\n       [0, 1, 0, ..., 0, 0, 0],\n       [0, 0, 0, ..., 0, 0, 0]], dtype=int64)"
     },
     "metadata": {},
     "execution_count": 13
    }
   ],
   "source": [
    "# import files\n",
    "torch.manual_seed(0)\n",
    "\n",
    "def generate_item_genre_df(item_path, user_item_df):\n",
    "    col_names = ['item_id', 'title', 'release_date', 'vid_release_date' ,'url']\n",
    "    category_cols = ['unknown', 'action', 'adventure', 'animation' , 'children' , 'comedy' , 'crime' , 'documentary' , 'drama' , 'fantasy' ,'noir' , 'horror' , 'musical' , 'mystery' , 'romance' , 'scifi' ,'thriller' , 'war' , 'western']\n",
    "    col = np.concatenate((col_names,category_cols))\n",
    "\n",
    "    # extract data from csv\n",
    "    item_genre_df = pd.read_csv(item_path, sep='|', names=col)\n",
    "    \n",
    "    # combine 2 dfs\n",
    "    df = user_item_df.join(item_genre_df.set_index('item_id'), on='item_id') \n",
    "    df = df.drop(['user_id','item_id','relation','title','release_date','vid_release_date','url'], axis=1) # delete unwanted columns\n",
    "    col_length = len(df.columns)\n",
    "    base_data = df.to_numpy()\n",
    "\n",
    "    torch_base = torch.tensor(base_data, dtype=torch.long)\n",
    "    idx_base = torch.nonzero(torch_base)\n",
    "    \n",
    "    # Create training matrix\n",
    "    # Select about 30% randomly from the idx array \n",
    "    n = int(0.3*len(idx_base))  \n",
    "    idx = np.random.choice(idx_base.shape[0], n, replace=False)\n",
    "\n",
    "    # Use the dropout index as training set\n",
    "    idx_training = [e.numpy() for i,e in enumerate(idx_base) if i not in idx] \n",
    "    print(\"training percentage: \", len(idx_training)/len(idx_base))\n",
    "    row_length = len(base_data)\n",
    "    training_data = torch.zeros(row_length,col_length)\n",
    "    for i in idx_training:\n",
    "        training_data[i[0],i[1]] = torch.tensor(1, dtype=torch.int64)\n",
    "\n",
    "    idx_testing = [e.numpy() for i,e in enumerate(idx_base) if i in idx] \n",
    "    testing_data = torch.zeros(row_length, col_length)\n",
    "    for i in idx_testing:\n",
    "        testing_data[i[0],i[1]] = torch.tensor(1, dtype=torch.int64)\n",
    "    \n",
    "    # TODO: hardcoded! Must be converted to dynamic file naming system\n",
    "    # Store into matlab file\n",
    "    savemat('./data/ml-100k/processed/u1_genre.mat', mdict={'u1_genre_base': base_data,'u1_genre_training': training_data.numpy() ,'u1_genre_test': testing_data.numpy()})\n",
    "\n",
    "    return base_data\n",
    "\n",
    "item_path = \"data\\\\ml-100k\\\\raw\\\\u.item\" # TODO: attach it somewhere \n",
    "data = generate_item_genre_df(item_path,user_item_df)\n",
    "data"
   ]
  },
  {
   "cell_type": "code",
   "execution_count": 87,
   "metadata": {
    "tags": []
   },
   "outputs": [
    {
     "output_type": "stream",
     "name": "stdout",
     "text": "[[1, 0, 0], [0, 1, 0], [0, 1, 1]]\n"
    },
    {
     "output_type": "execute_result",
     "data": {
      "text/plain": "tensor([[1, 0, 0],\n        [0, 0, 0],\n        [0, 1, 0]])"
     },
     "metadata": {},
     "execution_count": 87
    }
   ],
   "source": [
    "\n",
    "x = [[1,0,0],[0,1,0],[0,1,1]]\n",
    "a = torch.tensor(x, dtype=torch.int64)\n",
    "indices = torch.tensor([[1,1],[2,2]])\n",
    "\n",
    "print(x)\n",
    "a\n",
    "# a[torch.arange(a.size(0)).unsqueeze(1), indices] = 1.\n"
   ]
  },
  {
   "cell_type": "code",
   "execution_count": 73,
   "metadata": {},
   "outputs": [
    {
     "output_type": "execute_result",
     "data": {
      "text/plain": "tensor([[1., 1., 0., 0., 0., 0.],\n        [0., 1., 1., 0., 0., 0.],\n        [0., 1., 0., 0., 1., 0.]])"
     },
     "metadata": {},
     "execution_count": 73
    }
   ],
   "source": [
    "index = torch.tensor([[ 0,  1],\n",
    "                [ 1,  2],\n",
    "                [ 4,  1]], dtype=torch.long)\n",
    "a = torch.Tensor([[ 0,  0,  0,  0,  0,  0],[ 0,  0,  0,  0,  0,  0],[ 0,  0,  0,  0,  0,  0]])\n",
    "\n",
    "for i, ind in enumerate(index):\n",
    "    a[i].index_fill_(0, ind, 1)\n",
    "\n",
    "a"
   ]
  },
  {
   "cell_type": "code",
   "execution_count": null,
   "metadata": {},
   "outputs": [],
   "source": []
  }
 ]
}