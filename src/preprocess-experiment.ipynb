{
 "metadata": {
  "language_info": {
   "codemirror_mode": {
    "name": "ipython",
    "version": 3
   },
   "file_extension": ".py",
   "mimetype": "text/x-python",
   "name": "python",
   "nbconvert_exporter": "python",
   "pygments_lexer": "ipython3",
   "version": 3
  },
  "orig_nbformat": 2,
  "kernelspec": {
   "name": "python_defaultSpec_1597291759716",
   "display_name": "Python 3.6.10 64-bit ('igcmf': conda)"
  }
 },
 "nbformat": 4,
 "nbformat_minor": 2,
 "cells": [
  {
   "cell_type": "code",
   "execution_count": 1,
   "metadata": {},
   "outputs": [],
   "source": [
    "import os\n",
    "import copy\n",
    "import glob\n",
    "import shutil\n",
    "import pandas as pd\n",
    "import numpy as np\n",
    "from scipy.io import savemat\n",
    "\n",
    "import torch\n",
    "from torch_geometric.utils import one_hot\n",
    "from torch_scatter import scatter_add\n",
    "from torch_geometric.data import InMemoryDataset, Data, download_url, extract_zip"
   ]
  },
  {
   "cell_type": "code",
   "execution_count": 2,
   "metadata": {},
   "outputs": [
    {
     "output_type": "execute_result",
     "data": {
      "text/plain": "   user_id  item_id  relation\n0        1        1         5\n1        1        2         3\n2        1        3         4\n3        1        4         3\n4        1        5         3",
      "text/html": "<div>\n<style scoped>\n    .dataframe tbody tr th:only-of-type {\n        vertical-align: middle;\n    }\n\n    .dataframe tbody tr th {\n        vertical-align: top;\n    }\n\n    .dataframe thead th {\n        text-align: right;\n    }\n</style>\n<table border=\"1\" class=\"dataframe\">\n  <thead>\n    <tr style=\"text-align: right;\">\n      <th></th>\n      <th>user_id</th>\n      <th>item_id</th>\n      <th>relation</th>\n    </tr>\n  </thead>\n  <tbody>\n    <tr>\n      <th>0</th>\n      <td>1</td>\n      <td>1</td>\n      <td>5</td>\n    </tr>\n    <tr>\n      <th>1</th>\n      <td>1</td>\n      <td>2</td>\n      <td>3</td>\n    </tr>\n    <tr>\n      <th>2</th>\n      <td>1</td>\n      <td>3</td>\n      <td>4</td>\n    </tr>\n    <tr>\n      <th>3</th>\n      <td>1</td>\n      <td>4</td>\n      <td>3</td>\n    </tr>\n    <tr>\n      <th>4</th>\n      <td>1</td>\n      <td>5</td>\n      <td>3</td>\n    </tr>\n  </tbody>\n</table>\n</div>"
     },
     "metadata": {},
     "execution_count": 2
    }
   ],
   "source": [
    "def create_df(csv_path):\n",
    "        col_names = ['user_id', 'item_id', 'relation', 'ts']\n",
    "        df = pd.read_csv(csv_path, sep='\\t', names=col_names)\n",
    "        df = df.drop('ts', axis=1)\n",
    "        df_copy = df.copy()\n",
    "        df['user_id'] = df['user_id'] - 1\n",
    "        df['item_id'] = df['item_id'] - 1\n",
    "        df['relation'] = df['relation'] - 1\n",
    "\n",
    "        nums = {'user': df.max()['user_id'] + 1,\n",
    "                'item': df.max()['item_id'] + 1,\n",
    "                'node': df.max()['user_id'] + df.max()['item_id'] + 2,\n",
    "                'edge': len(df)}\n",
    "        return df_copy, nums\n",
    "\n",
    "csv_path = \"data\\\\ml-100k\\\\raw\\\\u1.base\" # TODO: attach it somewhere \n",
    "user_item_df, nums = create_df(csv_path)\n",
    "user_item_df.head()"
   ]
  },
  {
   "cell_type": "code",
   "execution_count": 3,
   "metadata": {
    "tags": []
   },
   "outputs": [],
   "source": [
    "# import files\n",
    "\n",
    "def generate_item_genre_df(item_path, user_item_df):\n",
    "    col_names = ['item_id', 'title', 'release_date', 'vid_release_date' ,'url']\n",
    "    category_cols = ['unknown', 'action', 'adventure', 'animation' , 'children' , 'comedy' , 'crime' , 'documentary' , 'drama' , 'fantasy' ,'noir' , 'horror' , 'musical' , 'mystery' , 'romance' , 'scifi' ,'thriller' , 'war' , 'western']\n",
    "    col = np.concatenate((col_names,category_cols))\n",
    "\n",
    "    # extract data from csv\n",
    "    item_genre_df = pd.read_csv(item_path, sep='|', names=col)\n",
    "    col_length = len(item_genre_df.columns)\n",
    "    \n",
    "    # combine 2 dfs\n",
    "    df = user_item_df.join(item_genre_df.set_index('item_id'), on='item_id') \n",
    "    df = df.drop(['user_id','item_id','relation','title','release_date','vid_release_date','url'], axis=1) # delete unwanted columns\n",
    "    train_data = df.to_numpy()\n",
    "\n",
    "    savemat('./data/ml-100k/processed/u1_base_genre.mat', mdict={'u1_genre_train': train_data, 'u1_genre_test': []}, do_compression=False)\n",
    "\n",
    "    return train_data\n",
    "\n",
    "item_path = \"data\\\\ml-100k\\\\raw\\\\u.item\" # TODO: attach it somewhere \n",
    "data = generate_item_genre_df(item_path,user_item_df)"
   ]
  },
  {
   "cell_type": "code",
   "execution_count": 119,
   "metadata": {
    "tags": []
   },
   "outputs": [
    {
     "output_type": "stream",
     "name": "stdout",
     "text": "44\n170437\n"
    }
   ],
   "source": [
    "torch.manual_seed(0)\n",
    "scatter = torch.ones(10, 10).random_(2)\n",
    "indexes = torch.nonzero(scatter)\n",
    "print(len(indexes))\n",
    "\n",
    "d_tensor = torch.tensor(data, dtype=torch.float32)\n",
    "idx_data = torch.nonzero(d_tensor)\n",
    "print(len(idx_data))\n",
    "\n",
    "# total = torch.mul(scatter, d_tensor)\n",
    "# idx_total = torch.nonzero(total)\n",
    "# print(len(idx_total))\n",
    "\n",
    "# last = (len(idx_total)/len(idx_data))*100\n",
    "# last\n",
    "# total"
   ]
  },
  {
   "cell_type": "code",
   "execution_count": null,
   "metadata": {},
   "outputs": [],
   "source": []
  }
 ]
}