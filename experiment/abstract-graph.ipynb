{
 "metadata": {
  "language_info": {
   "codemirror_mode": {
    "name": "ipython",
    "version": 3
   },
   "file_extension": ".py",
   "mimetype": "text/x-python",
   "name": "python",
   "nbconvert_exporter": "python",
   "pygments_lexer": "ipython3",
   "version": 3
  },
  "orig_nbformat": 2,
  "kernelspec": {
   "name": "python_defaultSpec_1595306699462",
   "display_name": "Python 3.8.1 64-bit ('igmc': conda)"
  }
 },
 "nbformat": 4,
 "nbformat_minor": 2,
 "cells": [
  {
   "cell_type": "code",
   "execution_count": 2,
   "metadata": {},
   "outputs": [],
   "source": [
    "import numpy as np\n",
    "import torch\n"
   ]
  },
  {
   "cell_type": "code",
   "execution_count": 3,
   "metadata": {},
   "outputs": [],
   "source": [
    "# initialise all necesarry functions here. Maybe should be moved to another file and import later\n",
    "def one_hot(idx, length):\n",
    "    idx = np.array(idx)\n",
    "    x = np.zeros([len(idx), length])\n",
    "    x[np.arange(len(idx)), idx] = 1.0\n",
    "    return x"
   ]
  },
  {
   "cell_type": "markdown",
   "metadata": {},
   "source": [
    "# Step 1: Extract from Matrix to build a global graph"
   ]
  },
  {
   "cell_type": "code",
   "execution_count": 4,
   "metadata": {},
   "outputs": [],
   "source": [
    "# Question: How to extract data from matrix and build it into a graph?"
   ]
  },
  {
   "cell_type": "markdown",
   "metadata": {},
   "source": [
    "# Step 2: Build a global graph"
   ]
  },
  {
   "cell_type": "code",
   "execution_count": 5,
   "metadata": {},
   "outputs": [
    {
     "output_type": "execute_result",
     "data": {
      "text/plain": "array([[1., 0., 0., 0., 0., 0.],\n       [0., 1., 0., 0., 0., 0.],\n       [0., 1., 0., 0., 0., 0.],\n       [0., 1., 0., 0., 0., 0.],\n       [0., 1., 0., 0., 0., 0.],\n       [0., 0., 1., 0., 0., 0.],\n       [0., 0., 0., 1., 0., 0.],\n       [0., 0., 0., 1., 0., 0.],\n       [0., 0., 0., 1., 0., 0.],\n       [0., 0., 0., 1., 0., 0.],\n       [0., 0., 0., 0., 1., 0.],\n       [0., 0., 0., 0., 0., 1.],\n       [0., 0., 0., 0., 0., 1.],\n       [0., 0., 0., 0., 0., 1.],\n       [0., 0., 0., 0., 0., 1.]])"
     },
     "metadata": {},
     "execution_count": 5
    }
   ],
   "source": [
    "# Prepare variables \n",
    "\n",
    "# (sample)\n",
    "global_ids = [0,1,1,1,1,2,3,3,3,3,4,5,5,5,5] # assume 3 matrices: 0 = user; 2 = item; 4 = description\n",
    "\n",
    "# encode it\n",
    "global_encoded = one_hot(global_ids, max(global_ids)+1)\n",
    "global_encoded"
   ]
  },
  {
   "cell_type": "code",
   "execution_count": 6,
   "metadata": {},
   "outputs": [],
   "source": [
    "# Question: How to create the relationship into the following format?"
   ]
  },
  {
   "cell_type": "code",
   "execution_count": 9,
   "metadata": {},
   "outputs": [
    {
     "output_type": "execute_result",
     "data": {
      "text/plain": "[[[2, 2], [2, 2], [], []],\n [[[0, 4], [1, 3]], [[2, 1], [3, 4]], [], []],\n [[0, 4], [0], [0, 4], [0]],\n [[[0, 4], [0, 1]], [[1, 3]], [[2, 1], [2, 1]], [[3, 4]]],\n [[2], [2], [], []],\n [[[0, 1]], [[2, 1]], [], []]]"
     },
     "metadata": {},
     "execution_count": 9
    }
   ],
   "source": [
    "# parent = [target parent ids]\n",
    "# children = [target child index, relationship weight]\n",
    "\n",
    "# user\n",
    "user_parent = [[2,2],[2,2],[],[]]\n",
    "user_children = [\\\n",
    "                 [[0,4],[1,3]],\\\n",
    "                 [[2,1],[3,4]],\\\n",
    "                 [],\\\n",
    "                 []\\\n",
    "                ]\n",
    "# item\n",
    "item_parent = [[0,4],[0],[0,4],[0]]\n",
    "item_children =[\\\n",
    "                [[0,4],[0,1]],\\\n",
    "                [[1,3]],\\\n",
    "                [[2,1],[2,1]],\\\n",
    "                [[3,4]]\\\n",
    "               ]\n",
    "\n",
    "# feature\n",
    "feature_parent = [[2],[2],[],[]]\n",
    "feature_children = [[[0,1]],[[2,1]],[],[]]\n",
    "\n",
    "data = [user_parent, user_children, item_parent, item_children, feature_parent, feature_children]\n",
    "data"
   ]
  },
  {
   "cell_type": "code",
   "execution_count": null,
   "metadata": {},
   "outputs": [],
   "source": [
    "# Question: How to merge similar relationship to make it undirected?"
   ]
  },
  {
   "cell_type": "markdown",
   "metadata": {},
   "source": [
    "# Step 3: Extract local enclosing subgraph\n"
   ]
  },
  {
   "cell_type": "code",
   "execution_count": 13,
   "metadata": {
    "tags": []
   },
   "outputs": [],
   "source": [
    "def get_parent_id(data, parent_id):\n",
    "    all_parents_pos = [id for (id,item) in enumerate(data) if item % 2 == 0]    \n",
    "    print('function', all_parents_pos)\n",
    "    local_parent_id = int(parent_id/2) # give index 0,1,2 etc. from parent id 2,4,6 etc.\n",
    "    parent_idx = all_parents_pos[local_parent_id]\n",
    "    return parent_idx\n",
    "\n",
    "def get_relationships(idx):\n",
    "    # variables\n",
    "    # idx = index\n",
    "    # pos = position\n",
    "\n",
    "    c_idx = idx\n",
    "    target_parents = []\n",
    "    target_children = []\n",
    "\n",
    "    all_parents_pos = [id for (id,item) in enumerate(global_ids) if item % 2 == 0]    \n",
    "\n",
    "    # calculate positions\n",
    "    c_pos = global_ids[idx] # child position\n",
    "    p_id = c_pos if(c_idx in all_parents_pos) else c_pos - 1\n",
    "    local_parent_id = int(p_id/2) # give index 0,1,2 etc. from parent id 2,4,6 etc.\n",
    "    p_idx = all_parents_pos[local_parent_id]\n",
    "    cp_pos = c_idx - p_idx - 1\n",
    "\n",
    "    # return\n",
    "    target_parents = data[p_idx][cp_pos] if(not p_idx == c_idx ) else data[p_id]\n",
    "    target_children = data[c_pos][cp_pos] if(not p_idx == c_idx ) else data[p_id+1]\n",
    "\n",
    "    return [target_parents,target_children]"
   ]
  },
  {
   "cell_type": "code",
   "execution_count": 17,
   "metadata": {
    "tags": []
   },
   "outputs": [
    {
     "output_type": "stream",
     "name": "stdout",
     "text": "Node labels [0, 1, 1, 1, 1, 2, 3, 3, 3, 3, 4, 5, 5, 5, 5]\nindex: 7\ntarget parent: [[2, 1]]\ntarget weights: [[1, 3]]\n"
    }
   ],
   "source": [
    "# Test\n",
    "print('Node labels', global_ids)\n",
    "\n",
    "index = 7\n",
    "relationships = get_relationships(index)\n",
    "print('index:', index)\n",
    "print('target parent:', relationships[0])\n",
    "print('target weights:', relationships[1])"
   ]
  },
  {
   "cell_type": "markdown",
   "metadata": {},
   "source": [
    "# Step 4: Convert to bipartite graph"
   ]
  },
  {
   "cell_type": "code",
   "execution_count": 14,
   "metadata": {},
   "outputs": [],
   "source": [
    "# Question: How to convert it to PyTorch, for training later?"
   ]
  },
  {
   "cell_type": "markdown",
   "metadata": {},
   "source": [
    "# Step 5: Train GNN"
   ]
  }
 ]
}